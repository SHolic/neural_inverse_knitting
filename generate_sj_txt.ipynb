{
 "cells": [
  {
   "cell_type": "code",
   "execution_count": 1,
   "id": "990a5e9b",
   "metadata": {},
   "outputs": [],
   "source": [
    "import re\n",
    "from collections import Counter"
   ]
  },
  {
   "cell_type": "markdown",
   "id": "15898d11",
   "metadata": {},
   "source": [
    "## 读取原始数据"
   ]
  },
  {
   "cell_type": "code",
   "execution_count": 2,
   "id": "c0f7986f",
   "metadata": {},
   "outputs": [],
   "source": [
    "names = ['train', 'val', 'test']\n",
    "real_all = []\n",
    "synt_all = []\n",
    "for name in names:\n",
    "    real_file = f'./dataset/{name}_real.txt'\n",
    "    with open(real_file, 'r') as f:\n",
    "        real = []\n",
    "        for line in f:\n",
    "            if line.strip().endswith('_back'):\n",
    "                continue\n",
    "            real.append(line.strip())\n",
    "    real_all += real\n",
    "     \n",
    "    synt_file = f'./dataset/{name}_synt.txt'\n",
    "    with open(synt_file, 'r') as f:\n",
    "        synt = []\n",
    "        for line in f:\n",
    "            if line.strip().endswith('_back'):\n",
    "                continue\n",
    "            line = line.strip().replace('_front', '')\n",
    "            synt.append(line)\n",
    "    synt_all += synt"
   ]
  },
  {
   "cell_type": "code",
   "execution_count": 3,
   "id": "4a1cad50",
   "metadata": {},
   "outputs": [
    {
     "name": "stdout",
     "output_type": "stream",
     "text": [
      "1043\n",
      "1043\n",
      "12550\n",
      "12403\n"
     ]
    }
   ],
   "source": [
    "print(len(real_all))\n",
    "print(len(set(real_all)))\n",
    "print(len(synt_all))\n",
    "print(len(set(synt_all)))"
   ]
  },
  {
   "cell_type": "markdown",
   "id": "8443daf7",
   "metadata": {},
   "source": [
    "## 原始分布"
   ]
  },
  {
   "cell_type": "code",
   "execution_count": 4,
   "id": "826de99a",
   "metadata": {},
   "outputs": [
    {
     "data": {
      "text/plain": [
       "Counter({'Links2': 105,\n",
       "         'Mesh': 122,\n",
       "         'Tuck': 167,\n",
       "         'Miss': 65,\n",
       "         'Hem': 134,\n",
       "         'Move1': 114,\n",
       "         'Move2': 138,\n",
       "         'Cable1': 69,\n",
       "         'Links1': 42,\n",
       "         'Cable2': 71,\n",
       "         'Full': 16})"
      ]
     },
     "execution_count": 4,
     "metadata": {},
     "output_type": "execute_result"
    }
   ],
   "source": [
    "reals = [line.split('_')[0] for line in set(real_all)]\n",
    "Counter(reals)"
   ]
  },
  {
   "cell_type": "code",
   "execution_count": 5,
   "id": "a99880b4",
   "metadata": {},
   "outputs": [
    {
     "data": {
      "text/plain": [
       "Counter({'Move2': 2858,\n",
       "         'Miss': 1419,\n",
       "         'Cable1': 1312,\n",
       "         'Move1': 1522,\n",
       "         'Hem': 2686,\n",
       "         'Cable2': 829,\n",
       "         'Links2': 981,\n",
       "         'Mesh': 229,\n",
       "         'Links1': 261,\n",
       "         'Tuck': 303,\n",
       "         'Full': 3})"
      ]
     },
     "execution_count": 5,
     "metadata": {},
     "output_type": "execute_result"
    }
   ],
   "source": [
    "synts = [line.split('_')[0] for line in set(synt_all)]\n",
    "Counter(synts)"
   ]
  },
  {
   "cell_type": "code",
   "execution_count": 6,
   "id": "f0df5761",
   "metadata": {},
   "outputs": [],
   "source": [
    "synt_match = []\n",
    "for line in set(synt_all):\n",
    "    if line in set(real_all) or line+'_front' in set(real_all):\n",
    "        synt_match.append(line)"
   ]
  },
  {
   "cell_type": "code",
   "execution_count": 7,
   "id": "d721781e",
   "metadata": {},
   "outputs": [
    {
     "data": {
      "text/plain": [
       "988"
      ]
     },
     "execution_count": 7,
     "metadata": {},
     "output_type": "execute_result"
    }
   ],
   "source": [
    "len(synt_match)"
   ]
  },
  {
   "cell_type": "code",
   "execution_count": 8,
   "id": "77e98aeb",
   "metadata": {},
   "outputs": [
    {
     "data": {
      "text/plain": [
       "Counter({'Links2': 105,\n",
       "         'Links1': 42,\n",
       "         'Move1': 98,\n",
       "         'Mesh': 122,\n",
       "         'Miss': 65,\n",
       "         'Move2': 114,\n",
       "         'Cable1': 69,\n",
       "         'Hem': 134,\n",
       "         'Tuck': 167,\n",
       "         'Cable2': 71,\n",
       "         'Full': 1})"
      ]
     },
     "execution_count": 8,
     "metadata": {},
     "output_type": "execute_result"
    }
   ],
   "source": [
    "synt_matchs = [line.split('_')[0] for line in set(synt_match)]\n",
    "Counter(synt_matchs)"
   ]
  },
  {
   "cell_type": "markdown",
   "id": "651a760f",
   "metadata": {},
   "source": [
    "## 增加非real"
   ]
  },
  {
   "cell_type": "code",
   "execution_count": 9,
   "id": "87da4b8a",
   "metadata": {},
   "outputs": [
    {
     "data": {
      "text/plain": [
       "{'Links2': 195,\n",
       " 'Links1': 219,\n",
       " 'Move1': 202,\n",
       " 'Mesh': 107,\n",
       " 'Miss': 235,\n",
       " 'Move2': 186,\n",
       " 'Cable1': 231,\n",
       " 'Hem': 166,\n",
       " 'Tuck': 133,\n",
       " 'Cable2': 229}"
      ]
     },
     "execution_count": 9,
     "metadata": {},
     "output_type": "execute_result"
    }
   ],
   "source": [
    "residuals = dict()\n",
    "for k, v in Counter(synt_matchs).items():\n",
    "    if k == 'Full':\n",
    "        continue\n",
    "    resi = min(300 - v, Counter(synts)[k] - v)\n",
    "    residuals[k] = resi\n",
    "residuals"
   ]
  },
  {
   "cell_type": "code",
   "execution_count": 10,
   "id": "0a6d6299",
   "metadata": {},
   "outputs": [],
   "source": [
    "synt_tmp = [line for line in synt_match if not line.startswith('Full')]\n",
    "for cat in residuals.keys():\n",
    "    total = residuals[cat]\n",
    "    i = 0\n",
    "    for line in set(synt_all):\n",
    "        if line not in synt_match and line.startswith(cat) and i < total:\n",
    "            synt_tmp.append(line)\n",
    "            i += 1"
   ]
  },
  {
   "cell_type": "code",
   "execution_count": 11,
   "id": "ffbada47",
   "metadata": {},
   "outputs": [
    {
     "data": {
      "text/plain": [
       "2890"
      ]
     },
     "execution_count": 11,
     "metadata": {},
     "output_type": "execute_result"
    }
   ],
   "source": [
    "len(synt_tmp)"
   ]
  },
  {
   "cell_type": "code",
   "execution_count": 12,
   "id": "09f51516",
   "metadata": {},
   "outputs": [
    {
     "data": {
      "text/plain": [
       "Counter({'Move1': 300,\n",
       "         'Miss': 300,\n",
       "         'Move2': 300,\n",
       "         'Cable2': 300,\n",
       "         'Mesh': 229,\n",
       "         'Tuck': 300,\n",
       "         'Cable1': 300,\n",
       "         'Hem': 300,\n",
       "         'Links2': 300,\n",
       "         'Links1': 261})"
      ]
     },
     "execution_count": 12,
     "metadata": {},
     "output_type": "execute_result"
    }
   ],
   "source": [
    "synt_tmps = [line.split('_')[0] for line in set(synt_tmp)]\n",
    "Counter(synt_tmps)"
   ]
  },
  {
   "cell_type": "markdown",
   "id": "49f2a8eb",
   "metadata": {},
   "source": [
    "## 凑到3000个"
   ]
  },
  {
   "cell_type": "code",
   "execution_count": 13,
   "id": "a2b23d5d",
   "metadata": {},
   "outputs": [
    {
     "name": "stdout",
     "output_type": "stream",
     "text": [
      "110\n"
     ]
    }
   ],
   "source": [
    "print(3000 - len(synt_tmp))"
   ]
  },
  {
   "cell_type": "code",
   "execution_count": 14,
   "id": "4eb2f8e1",
   "metadata": {},
   "outputs": [],
   "source": [
    "res2 = {\n",
    "    'Cable1': 15,\n",
    "    'Hem': 16,\n",
    "    'Miss': 15,\n",
    "    'Move2': 16,\n",
    "    'Links2': 15,\n",
    "    'Move1': 15,\n",
    "    'Mesh': 0,\n",
    "    'Cable2': 15,\n",
    "    'Links1': 0,\n",
    "    'Tuck': 3\n",
    "}"
   ]
  },
  {
   "cell_type": "code",
   "execution_count": 15,
   "id": "608ea2ff",
   "metadata": {},
   "outputs": [
    {
     "data": {
      "text/plain": [
       "3000"
      ]
     },
     "execution_count": 15,
     "metadata": {},
     "output_type": "execute_result"
    }
   ],
   "source": [
    "synt_final = synt_tmp.copy()\n",
    "for cat in res2.keys():\n",
    "    total = res2[cat]\n",
    "    i = 0\n",
    "    for line in set(synt_all):\n",
    "        if line not in synt_tmp and line.startswith(cat) and i < total:\n",
    "            synt_final.append(line)\n",
    "            i += 1\n",
    "len(synt_final)"
   ]
  },
  {
   "cell_type": "code",
   "execution_count": 32,
   "id": "afab6987",
   "metadata": {},
   "outputs": [
    {
     "data": {
      "text/plain": [
       "987"
      ]
     },
     "execution_count": 32,
     "metadata": {},
     "output_type": "execute_result"
    }
   ],
   "source": [
    "real_final = []\n",
    "for line in real_all:\n",
    "    if not line.startswith('Full') and (line in synt_match or line.replace('_front', '') in synt_match):\n",
    "        real_final.append(line)\n",
    "len(real_final)"
   ]
  },
  {
   "cell_type": "code",
   "execution_count": 33,
   "id": "2691d35f",
   "metadata": {},
   "outputs": [
    {
     "data": {
      "text/plain": [
       "3000"
      ]
     },
     "execution_count": 33,
     "metadata": {},
     "output_type": "execute_result"
    }
   ],
   "source": [
    "inst_tmp = [line.replace('_front', '') for line in real_final]\n",
    "resi3 = [line for line in synt_final if not line in inst_tmp]\n",
    "inst_final = real_final + resi3\n",
    "len(inst_final)"
   ]
  }
 ],
 "metadata": {
  "kernelspec": {
   "display_name": "Python 3",
   "language": "python",
   "name": "python3"
  },
  "language_info": {
   "codemirror_mode": {
    "name": "ipython",
    "version": 3
   },
   "file_extension": ".py",
   "mimetype": "text/x-python",
   "name": "python",
   "nbconvert_exporter": "python",
   "pygments_lexer": "ipython3",
   "version": "3.6.13"
  }
 },
 "nbformat": 4,
 "nbformat_minor": 5
}
