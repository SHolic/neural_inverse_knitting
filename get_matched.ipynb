{
 "cells": [
  {
   "cell_type": "code",
   "execution_count": 1,
   "id": "990a5e9b",
   "metadata": {},
   "outputs": [],
   "source": [
    "import re\n",
    "import os"
   ]
  },
  {
   "cell_type": "code",
   "execution_count": 2,
   "id": "62423b14",
   "metadata": {},
   "outputs": [],
   "source": [
    "# name = 'train'\n",
    "# name = 'val'\n",
    "name = 'test'\n",
    "synt_file = f'./dataset/{name}_synt.txt'\n",
    "real_file = f'./dataset/{name}_real.txt'"
   ]
  },
  {
   "cell_type": "code",
   "execution_count": 3,
   "id": "c0f7986f",
   "metadata": {},
   "outputs": [],
   "source": [
    "with open(real_file, 'r') as f:\n",
    "    real = []\n",
    "    for line in f:\n",
    "        if line.strip().endswith('_back'):\n",
    "            continue\n",
    "        real.append(line.strip())"
   ]
  },
  {
   "cell_type": "code",
   "execution_count": 4,
   "id": "e675abf3",
   "metadata": {},
   "outputs": [],
   "source": [
    "with open(synt_file, 'r') as f:\n",
    "    synt = []\n",
    "    for line in f:\n",
    "        line = line.strip()\n",
    "        synt.append(line)"
   ]
  },
  {
   "cell_type": "code",
   "execution_count": 5,
   "id": "fd1f2596",
   "metadata": {},
   "outputs": [],
   "source": [
    "real_res = []\n",
    "for line in real:\n",
    "    if line in synt or line.replace(\"_front\", \"\") in synt:\n",
    "        real_res.append(line)"
   ]
  },
  {
   "cell_type": "code",
   "execution_count": 6,
   "id": "befc0ee4",
   "metadata": {},
   "outputs": [
    {
     "data": {
      "text/plain": [
       "18"
      ]
     },
     "execution_count": 6,
     "metadata": {},
     "output_type": "execute_result"
    }
   ],
   "source": [
    "len(real_res)"
   ]
  },
  {
   "cell_type": "code",
   "execution_count": 7,
   "id": "1a791858",
   "metadata": {},
   "outputs": [],
   "source": [
    "synt_res = []\n",
    "for line in synt:\n",
    "    if line in real or line+\"_front\" in real:\n",
    "        synt_res.append(line)"
   ]
  },
  {
   "cell_type": "code",
   "execution_count": 8,
   "id": "dfaf05db",
   "metadata": {},
   "outputs": [
    {
     "data": {
      "text/plain": [
       "18"
      ]
     },
     "execution_count": 8,
     "metadata": {},
     "output_type": "execute_result"
    }
   ],
   "source": [
    "len(synt_res)"
   ]
  },
  {
   "cell_type": "code",
   "execution_count": 9,
   "id": "6e160a3f",
   "metadata": {},
   "outputs": [],
   "source": [
    "if len(real_res) == len(synt_res):\n",
    "    os.rename(synt_file, f'./dataset/{name}_synt_backup.txt')\n",
    "    os.rename(real_file, f'./dataset/{name}_real_backup.txt')\n",
    "\n",
    "    with open(synt_file, 'w') as f:\n",
    "        for item in synt_res:\n",
    "            f.write(f\"{item}\\n\")\n",
    "\n",
    "    with open(real_file, 'w') as f:\n",
    "        for item in real_res:\n",
    "            f.write(f\"{item}\\n\")"
   ]
  },
  {
   "cell_type": "code",
   "execution_count": 10,
   "id": "4f6ace9e",
   "metadata": {},
   "outputs": [],
   "source": [
    "# real_file = f'./dataset/val_real.txt'\n",
    "\n",
    "# with open(real_file, 'r') as f:\n",
    "#     real = []\n",
    "#     for line in f:\n",
    "#         if line.strip().endswith('_back'):\n",
    "#             continue\n",
    "#         real.append(line.strip())\n",
    "        \n",
    "#         os.rename(real_file, f'./dataset/val_real_backup.txt')\n",
    "\n",
    "# with open(real_file, 'w') as f:\n",
    "#     for item in real:\n",
    "#         f.write(f\"{item}\\n\")"
   ]
  }
 ],
 "metadata": {
  "kernelspec": {
   "display_name": "Python 3",
   "language": "python",
   "name": "python3"
  },
  "language_info": {
   "codemirror_mode": {
    "name": "ipython",
    "version": 3
   },
   "file_extension": ".py",
   "mimetype": "text/x-python",
   "name": "python",
   "nbconvert_exporter": "python",
   "pygments_lexer": "ipython3",
   "version": "3.6.13"
  }
 },
 "nbformat": 4,
 "nbformat_minor": 5
}
