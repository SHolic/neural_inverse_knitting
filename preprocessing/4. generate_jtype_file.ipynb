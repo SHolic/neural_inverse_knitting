{
 "cells": [
  {
   "cell_type": "code",
   "execution_count": 1,
   "id": "c29cf8a7",
   "metadata": {},
   "outputs": [
    {
     "name": "stdout",
     "output_type": "stream",
     "text": [
      "train文件分割完成！\n",
      "val文件分割完成！\n",
      "test文件分割完成！\n"
     ]
    }
   ],
   "source": [
    "for name in ('train', 'val', 'test'):\n",
    "    # 打开输入文件和输出\n",
    "    with open(f'../dataset/{name}_real.txt', 'r') as infile, \\\n",
    "         open(f'../dataset/{name}_real_mj.txt', 'w') as file_mj, \\\n",
    "         open(f'../dataset/{name}_real_sj.txt', 'w') as file_sj:\n",
    "\n",
    "        # 遍历每一行\n",
    "        for line in infile:\n",
    "            parts = line.strip().split('_')\n",
    "            if parts[0] in ('2j', '3j', '4j'):\n",
    "                file_mj.write(line)\n",
    "            else:\n",
    "                file_sj.write(line)\n",
    "\n",
    "    print(f\"{name}文件分割完成！\")"
   ]
  },
  {
   "cell_type": "code",
   "execution_count": 2,
   "id": "849be632",
   "metadata": {},
   "outputs": [],
   "source": [
    "# for name in ('train', 'val', 'test'):\n",
    "#     # 打开输入文件和输出\n",
    "#     with open(f'../dataset/{name}_real.txt', 'r') as infile, \\\n",
    "#          open(f'../dataset/{name}_real_2j.txt', 'w') as file_2j, \\\n",
    "#          open(f'../dataset/{name}_real_3j.txt', 'w') as file_3j, \\\n",
    "#          open(f'../dataset/{name}_real_4j.txt', 'w') as file_4j, \\\n",
    "#          open(f'../dataset/{name}_real_1j.txt', 'w') as file_1j:\n",
    "\n",
    "#         # 遍历每一行\n",
    "#         for line in infile:\n",
    "#             parts = line.strip().split('_')\n",
    "#             if parts[0] == '2j':\n",
    "#                 file_2j.write(line)\n",
    "#             elif parts[0] == '3j':\n",
    "#                 file_3j.write(line)\n",
    "#             elif parts[0] == '4j':\n",
    "#                 file_4j.write(line)\n",
    "#             else:\n",
    "#                 file_1j.write(line)\n",
    "\n",
    "#     print(f\"{name}文件分割完成！\")"
   ]
  }
 ],
 "metadata": {
  "kernelspec": {
   "display_name": "Python 3",
   "language": "python",
   "name": "python3"
  },
  "language_info": {
   "codemirror_mode": {
    "name": "ipython",
    "version": 3
   },
   "file_extension": ".py",
   "mimetype": "text/x-python",
   "name": "python",
   "nbconvert_exporter": "python",
   "pygments_lexer": "ipython3",
   "version": "3.6.13"
  }
 },
 "nbformat": 4,
 "nbformat_minor": 5
}
