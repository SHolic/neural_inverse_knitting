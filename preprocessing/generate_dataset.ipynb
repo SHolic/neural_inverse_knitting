{
 "cells": [
  {
   "cell_type": "code",
   "execution_count": 1,
   "id": "f7e1e9bd",
   "metadata": {},
   "outputs": [],
   "source": [
    "import os\n",
    "import shutil\n",
    "from PIL import Image\n",
    "from collections import Counter, OrderedDict"
   ]
  },
  {
   "cell_type": "markdown",
   "id": "0cd01dd3",
   "metadata": {},
   "source": [
    "## Copy and transform"
   ]
  },
  {
   "cell_type": "code",
   "execution_count": 2,
   "id": "fee951a3",
   "metadata": {},
   "outputs": [],
   "source": [
    "# 定义源文件夹和目标文件夹路径\n",
    "jtypes = ['1j', '2j', '3j', '4j']\n",
    "source_folders = [\n",
    "    '../dataset-new/real/gray', \n",
    "    '../dataset-new/real/rgb', \n",
    "    '../dataset-new/render/gray', \n",
    "    '../dataset-new/front_lab', \n",
    "    '../dataset-new/complete_lab',\n",
    "#     '../dataset-new/color_complete_lab'\n",
    "]\n",
    "destination_folders = [\n",
    "    '../dataset/real/160x160/gray', \n",
    "    '../dataset/real/160x160/rgb', \n",
    "    '../dataset/rendering', \n",
    "    '../dataset/instruction-front', \n",
    "    '../dataset/instruction-complete',\n",
    "#     '../dataset/instruction-complete-color'\n",
    "]"
   ]
  },
  {
   "cell_type": "code",
   "execution_count": 3,
   "id": "9ce4a0b0",
   "metadata": {},
   "outputs": [
    {
     "name": "stdout",
     "output_type": "stream",
     "text": [
      "../dataset-new/real/gray/1j，文件复制完成！\n",
      "../dataset-new/real/gray/2j，文件复制完成！\n",
      "../dataset-new/real/gray/3j，文件复制完成！\n",
      "../dataset-new/real/gray/4j，文件复制完成！\n",
      "../dataset-new/real/rgb/1j，文件复制完成！\n",
      "../dataset-new/real/rgb/2j，文件复制完成！\n",
      "../dataset-new/real/rgb/3j，文件复制完成！\n",
      "../dataset-new/real/rgb/4j，文件复制完成！\n",
      "../dataset-new/render/gray/1j，文件复制完成！\n",
      "../dataset-new/render/gray/2j，文件复制完成！\n",
      "../dataset-new/render/gray/3j，文件复制完成！\n",
      "../dataset-new/render/gray/4j，文件复制完成！\n",
      "../dataset-new/front_lab/1j，文件复制完成！\n",
      "../dataset-new/front_lab/2j，文件复制完成！\n",
      "../dataset-new/front_lab/3j，文件复制完成！\n",
      "../dataset-new/front_lab/4j，文件复制完成！\n",
      "../dataset-new/complete_lab/1j，文件复制完成！\n",
      "../dataset-new/complete_lab/2j，文件复制完成！\n",
      "../dataset-new/complete_lab/3j，文件复制完成！\n",
      "../dataset-new/complete_lab/4j，文件复制完成！\n",
      "文件复制完成！\n"
     ]
    }
   ],
   "source": [
    "if not os.path.exists('../dataset'):\n",
    "    for source_folder_tmp, destination_folder in zip(source_folders, destination_folders):\n",
    "        for jtype in jtypes:\n",
    "            source_folder = os.path.join(source_folder_tmp, jtype)\n",
    "\n",
    "            # 确保目标文件夹存在，不存在则创建\n",
    "            if not os.path.exists(destination_folder):\n",
    "                os.makedirs(destination_folder)\n",
    "\n",
    "            # 获取源文件夹的名称，作为文件名后缀\n",
    "            folder_name_prefix = os.path.basename(source_folder)\n",
    "\n",
    "            # 遍历源文件夹下的所有文件\n",
    "            for filename in os.listdir(source_folder):\n",
    "                # 检查是否为文件（不包括子文件夹）\n",
    "                source_file_path = os.path.join(source_folder, filename)\n",
    "                if os.path.isfile(source_file_path):\n",
    "\n",
    "                    # 生成新文件名，加上后缀\n",
    "                    name, ext = os.path.splitext(filename)\n",
    "                    if folder_name_prefix != '1j':\n",
    "                        new_filename = f\"{folder_name_prefix}_{name}{ext}\"\n",
    "                    else:\n",
    "                        new_filename = f\"{name}{ext}\"\n",
    "\n",
    "                    if 'render' in source_folder and ext == '.png':\n",
    "                        # 打开PNG图片\n",
    "                        png_image = Image.open(source_file_path)\n",
    "                        # 保存为JPG格式\n",
    "                        new_filename = os.path.splitext(new_filename)[0] + '.jpg'\n",
    "                        # 将图片转换为灰度模式\n",
    "                        gray_image = png_image.convert('L')\n",
    "                        # 目标文件路径\n",
    "                        destination_file_path = os.path.join(destination_folder, new_filename)\n",
    "                        gray_image.save(destination_file_path, 'JPEG')\n",
    "                    else:\n",
    "                        # 目标文件路径\n",
    "                        destination_file_path = os.path.join(destination_folder, new_filename)\n",
    "\n",
    "                        # 复制文件到目标文件夹\n",
    "                        shutil.copy(source_file_path, destination_file_path)\n",
    "\n",
    "            print(f\"{source_folder}，文件复制完成！\")\n",
    "    print(\"文件复制完成！\")\n",
    "else:\n",
    "    print(\"目标文件夹已存在，跳过复制\")"
   ]
  },
  {
   "cell_type": "code",
   "execution_count": 4,
   "id": "17a6c100",
   "metadata": {},
   "outputs": [
    {
     "name": "stdout",
     "output_type": "stream",
     "text": [
      "已复制文件夹：../dataset-mit/transfer 到 ../dataset/transfer\n"
     ]
    }
   ],
   "source": [
    "# 复制 transfer 文件夹\n",
    "source_folder = '../dataset-mit/transfer'\n",
    "destination_folder = '../dataset/transfer'\n",
    "\n",
    "# 确保目标文件夹存在，不存在则创建\n",
    "if not os.path.exists(destination_folder):\n",
    "    shutil.copytree(source_folder, destination_folder)\n",
    "    print(f\"已复制文件夹：{source_folder} 到 {destination_folder}\")\n",
    "else:\n",
    "    print(f\"目标文件夹 {destination_folder} 已存在，跳过复制\")"
   ]
  },
  {
   "cell_type": "code",
   "execution_count": 5,
   "id": "7f1f464b",
   "metadata": {},
   "outputs": [
    {
     "name": "stdout",
     "output_type": "stream",
     "text": [
      "已处理并保存文件：../dataset/sj3000.txt\n"
     ]
    }
   ],
   "source": [
    "# 处理 sj3000.txt 文件\n",
    "txt_source_path = '../dataset-new/sj3000.txt'\n",
    "txt_destination_path = '../dataset/sj3000.txt'\n",
    "\n",
    "# 读取内容并移除 .png 字符串\n",
    "with open(txt_source_path, 'r', encoding='utf-8') as file:\n",
    "    content = file.read().replace('.png', '')\n",
    "\n",
    "# 保存修改后的内容到新的路径\n",
    "with open(txt_destination_path, 'w', encoding='utf-8') as file:\n",
    "    file.write(content)\n",
    "    print(f\"已处理并保存文件：{txt_destination_path}\")"
   ]
  },
  {
   "cell_type": "markdown",
   "id": "2b8e5299",
   "metadata": {},
   "source": [
    "## train val split"
   ]
  },
  {
   "cell_type": "markdown",
   "id": "3df50c40",
   "metadata": {},
   "source": [
    "### sj"
   ]
  },
  {
   "cell_type": "code",
   "execution_count": 6,
   "id": "08bd23a7",
   "metadata": {},
   "outputs": [
    {
     "name": "stdout",
     "output_type": "stream",
     "text": [
      "2700\n",
      "300\n"
     ]
    }
   ],
   "source": [
    "with open('../dataset/sj3000.txt', 'r') as f:\n",
    "    synt_final = []\n",
    "    for line in f:\n",
    "        synt_final.append(line.strip())\n",
    "        \n",
    "val_synt = []\n",
    "val_synt_cnt = {\n",
    "    'Cable1': 0,\n",
    "    'Hem': 0,\n",
    "    'Miss': 0,\n",
    "    'Move2': 0,\n",
    "    'Links2': 0,\n",
    "    'Move1': 0,\n",
    "    'Mesh': 0,\n",
    "    'Cable2': 0,\n",
    "    'Links1': 0,\n",
    "    'Tuck': 0\n",
    "}\n",
    "\n",
    "for line in synt_final:\n",
    "    cat = line.split('_')[0]\n",
    "    if val_synt_cnt[cat] < 30:\n",
    "        val_synt.append(line)\n",
    "        val_synt_cnt[cat] += 1\n",
    "        \n",
    "train_synt = [line for line in synt_final if line not in val_synt]\n",
    "print(len(train_synt))\n",
    "print(len(val_synt))"
   ]
  },
  {
   "cell_type": "markdown",
   "id": "86e7113a",
   "metadata": {},
   "source": [
    "### 2j3j4j"
   ]
  },
  {
   "cell_type": "code",
   "execution_count": 7,
   "id": "ce7acc7a",
   "metadata": {},
   "outputs": [],
   "source": [
    "js = []\n",
    "for filename in os.listdir('../dataset/rendering'):\n",
    "    jtype = filename.split('_')[0]\n",
    "    if jtype in ('2j', '3j', '4j'):\n",
    "        fname = filename.replace(\".jpg\", \"\")\n",
    "        js.append(fname + '\\n')\n",
    "        \n",
    "with open('../dataset/2j3j4j.txt', 'w') as f:\n",
    "    for line in js:\n",
    "        f.writelines(line)"
   ]
  },
  {
   "cell_type": "code",
   "execution_count": 8,
   "id": "380a91c1",
   "metadata": {},
   "outputs": [],
   "source": [
    "js_data = []\n",
    "with open('../dataset/2j3j4j.txt', 'r') as f:\n",
    "    for line in f:\n",
    "        js_data.append(line.strip())"
   ]
  },
  {
   "cell_type": "code",
   "execution_count": 9,
   "id": "f70139b8",
   "metadata": {},
   "outputs": [
    {
     "name": "stdout",
     "output_type": "stream",
     "text": [
      "1560\n",
      "390\n"
     ]
    }
   ],
   "source": [
    "jsynt = [(line.split('_')[0], line.split('-')[-3]+'-'+line.split('-')[-2], line) for line in js_data]\n",
    "jsynt_cnt = OrderedDict(sorted(Counter([line[0:-1] for line in jsynt]).items()))\n",
    "\n",
    "val_jsynt = []\n",
    "for (jstyle, stype), cnt in jsynt_cnt.items():\n",
    "    add_cnt = cnt / 5\n",
    "    i = 0\n",
    "    for _jstyle, _stype, _line in jsynt:\n",
    "        if i >= add_cnt:\n",
    "            break\n",
    "            \n",
    "        if _jstyle == jstyle and _stype == stype:\n",
    "            val_jsynt.append(_line)\n",
    "            i += 1\n",
    "\n",
    "train_jsynt = [line for line in js_data if line not in val_jsynt]\n",
    "print(len(train_jsynt))\n",
    "print(len(val_jsynt))"
   ]
  },
  {
   "cell_type": "markdown",
   "id": "e3ae4a28",
   "metadata": {},
   "source": [
    "### combine"
   ]
  },
  {
   "cell_type": "code",
   "execution_count": 10,
   "id": "8c03fe8e",
   "metadata": {},
   "outputs": [
    {
     "name": "stdout",
     "output_type": "stream",
     "text": [
      "4260\n",
      "690\n"
     ]
    }
   ],
   "source": [
    "train_synt += train_jsynt\n",
    "val_synt += val_jsynt\n",
    "print(len(train_synt))\n",
    "print(len(val_synt))"
   ]
  },
  {
   "cell_type": "code",
   "execution_count": 11,
   "id": "8917ca17",
   "metadata": {},
   "outputs": [],
   "source": [
    "with open('../dataset/train_synt.txt', 'w') as f:\n",
    "    for line in train_synt:\n",
    "        f.write(line+'\\n')\n",
    "        \n",
    "with open('../dataset/val_synt.txt', 'w') as f:\n",
    "    for line in val_synt:\n",
    "        f.write(line+'\\n')\n",
    "        \n",
    "with open('../dataset/train_unsup.txt', 'w') as f:\n",
    "    pass\n",
    "\n",
    "with open('../dataset/train_real.txt', 'w') as f:\n",
    "    for line in train_synt:\n",
    "        f.write(line+'\\n')\n",
    "\n",
    "with open('../dataset/val_real.txt', 'w') as f:\n",
    "    for line in val_synt:\n",
    "        f.write(line+'\\n')\n",
    "        \n",
    "with open('../dataset/test_real.txt', 'w') as f:\n",
    "    for line in train_synt + val_synt:\n",
    "        f.write(line+'\\n')\n",
    "\n",
    "with open('../dataset/test_synt.txt', 'w') as f:\n",
    "    for line in train_synt + val_synt:\n",
    "        f.write(line+'\\n')"
   ]
  }
 ],
 "metadata": {
  "kernelspec": {
   "display_name": "Python 3",
   "language": "python",
   "name": "python3"
  },
  "language_info": {
   "codemirror_mode": {
    "name": "ipython",
    "version": 3
   },
   "file_extension": ".py",
   "mimetype": "text/x-python",
   "name": "python",
   "nbconvert_exporter": "python",
   "pygments_lexer": "ipython3",
   "version": "3.6.13"
  }
 },
 "nbformat": 4,
 "nbformat_minor": 5
}
