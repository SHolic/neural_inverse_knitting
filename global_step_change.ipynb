{
 "cells": [
  {
   "cell_type": "code",
   "execution_count": 2,
   "id": "b08da69a",
   "metadata": {},
   "outputs": [
    {
     "name": "stdout",
     "output_type": "stream",
     "text": [
      "Global Step: 150004\n"
     ]
    }
   ],
   "source": [
    "import tensorflow as tf\n",
    "\n",
    "# Path to your checkpoint\n",
    "checkpoint_path = './checkpoint/RFINet_sj_newinst_xferln_test/_lr-0.0005_batch-2/FeedForwardNetworks-150000'\n",
    "\n",
    "# Load the checkpoint and read global_step\n",
    "checkpoint_reader = tf.train.load_checkpoint(checkpoint_path)\n",
    "global_step = checkpoint_reader.get_tensor('global_step')\n",
    "print(\"Global Step:\", global_step)"
   ]
  },
  {
   "cell_type": "code",
   "execution_count": 1,
   "id": "70b9d0fe",
   "metadata": {},
   "outputs": [
    {
     "name": "stdout",
     "output_type": "stream",
     "text": [
      "INFO:tensorflow:Restoring parameters from ./checkpoint/RFINet_sj_newinst_xferln_test/_lr-0.0005_batch-2/FeedForwardNetworks-150000\n"
     ]
    }
   ],
   "source": [
    "import os\n",
    "import tensorflow as tf\n",
    "\n",
    "os.environ[\"CUDA_VISIBLE_DEVICES\"] = \"-1\"\n",
    "\n",
    "# Load the model and set global_step to 0\n",
    "checkpoint_path = './checkpoint/RFINet_sj_newinst_xferln_test/_lr-0.0005_batch-2/FeedForwardNetworks-150000'\n",
    "new_checkpoint_path = './checkpoint/RFINet_sj_newinst_xferln_test/_lr-0.0005_batch-2/FeedForwardNetworks-0'\n",
    "\n",
    "# Initialize the global step to 0\n",
    "with tf.Session() as sess:\n",
    "    # Restore model from checkpoint with cleared device assignments\n",
    "    saver = tf.train.import_meta_graph(checkpoint_path + '.meta', clear_devices=True)\n",
    "    saver.restore(sess, checkpoint_path)\n",
    "    \n",
    "    # Reset the global_step variable to 0\n",
    "    global_step_var = tf.train.get_or_create_global_step()\n",
    "    assign_op = tf.assign(global_step_var, 0)\n",
    "    sess.run(assign_op)\n",
    "    \n",
    "    # Save the modified checkpoint\n",
    "    new_saver = tf.train.Saver()\n",
    "    new_saver.save(sess, new_checkpoint_path)"
   ]
  },
  {
   "cell_type": "code",
   "execution_count": 3,
   "id": "3612f75d",
   "metadata": {},
   "outputs": [
    {
     "name": "stdout",
     "output_type": "stream",
     "text": [
      "Global Step: 0\n"
     ]
    }
   ],
   "source": [
    "# Path to your checkpoint\n",
    "checkpoint_path = './checkpoint/RFINet_sj_newinst_xferln_test/_lr-0.0005_batch-2/FeedForwardNetworks-0'\n",
    "\n",
    "# Load the checkpoint and read global_step\n",
    "checkpoint_reader = tf.train.load_checkpoint(checkpoint_path)\n",
    "global_step = checkpoint_reader.get_tensor('global_step')\n",
    "print(\"Global Step:\", global_step)"
   ]
  }
 ],
 "metadata": {
  "kernelspec": {
   "display_name": "Python 3",
   "language": "python",
   "name": "python3"
  },
  "language_info": {
   "codemirror_mode": {
    "name": "ipython",
    "version": 3
   },
   "file_extension": ".py",
   "mimetype": "text/x-python",
   "name": "python",
   "nbconvert_exporter": "python",
   "pygments_lexer": "ipython3",
   "version": "3.6.13"
  }
 },
 "nbformat": 4,
 "nbformat_minor": 5
}
