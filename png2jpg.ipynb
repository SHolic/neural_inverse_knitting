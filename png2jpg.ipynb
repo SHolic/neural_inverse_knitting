{
 "cells": [
  {
   "cell_type": "code",
   "execution_count": 3,
   "id": "97f83ee6",
   "metadata": {},
   "outputs": [
    {
     "name": "stdout",
     "output_type": "stream",
     "text": [
      "转换完成！\n"
     ]
    }
   ],
   "source": [
    "from PIL import Image\n",
    "import os\n",
    "\n",
    "# 定义文件夹路径\n",
    "input_folder = './dataset/renderingpng'\n",
    "output_folder = './dataset/rendering'\n",
    "\n",
    "# 创建输出文件夹（如果不存在）\n",
    "os.makedirs(output_folder, exist_ok=True)\n",
    "\n",
    "# 遍历输入文件夹中的所有PNG文件\n",
    "for filename in os.listdir(input_folder):\n",
    "    if filename.endswith('.png'):\n",
    "        # 打开PNG图片\n",
    "        png_image = Image.open(os.path.join(input_folder, filename))\n",
    "\n",
    "        # 将图片转换为灰度模式\n",
    "        gray_image = png_image.convert('L')\n",
    "\n",
    "        # 保存为JPG格式\n",
    "        new_filename = os.path.splitext(filename)[0] + '.jpg'\n",
    "        gray_image.save(os.path.join(output_folder, new_filename), 'JPEG')\n",
    "\n",
    "print(\"转换完成！\")"
   ]
  }
 ],
 "metadata": {
  "kernelspec": {
   "display_name": "Python 3",
   "language": "python",
   "name": "python3"
  },
  "language_info": {
   "codemirror_mode": {
    "name": "ipython",
    "version": 3
   },
   "file_extension": ".py",
   "mimetype": "text/x-python",
   "name": "python",
   "nbconvert_exporter": "python",
   "pygments_lexer": "ipython3",
   "version": "3.6.13"
  }
 },
 "nbformat": 4,
 "nbformat_minor": 5
}
